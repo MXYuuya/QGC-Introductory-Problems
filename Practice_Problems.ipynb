{
 "cells": [
  {
   "cell_type": "markdown",
   "metadata": {},
   "source": [
    "# Quantum Game Club Introductory Practice Problems\n",
    "\n",
    "This is a set of practice problems meant to act as an introduction to basic quantum programming. Here you will learn how to allocate qubits and apply various single and multi qubit gates."
   ]
  },
  {
   "cell_type": "markdown",
   "metadata": {},
   "source": [
    "We will begin by importing various utility functions from the Q# library. If you would like to find out more about what they do individually, you may find them [HERE](https://learn.microsoft.com/en-us/qsharp/api/qsharp/). Remember to run the cell below before continuing.\n"
   ]
  },
  {
   "cell_type": "code",
   "execution_count": null,
   "metadata": {},
   "outputs": [],
   "source": [
    "// This namespace contains functions for creating and manipulating arrays of data.\n",
    "open Microsoft.Quantum.Arrays;\n",
    "\n",
    "// This namespace contains function and operations that help ensure correctness of Q# programs and inspect their behavior.\n",
    "open Microsoft.Quantum.Diagnostics;\n",
    "\n",
    "// This namespace contains operations for performing measurements beyond the basic measurement operations available in the Microsoft.Quantum.Intrinsic namespace.\n",
    "open Microsoft.Quantum.Measurement;"
   ]
  },
  {
   "cell_type": "markdown",
   "metadata": {},
   "source": [
    "# Exercise 1 - Initialize $|+\\rangle$ Qubit\n",
    "\n",
    "For exercise 1, allocate a qubit, and then apply an operation to it which transforms it from $|0\\rangle$ to $|+\\rangle$. Remember all allocated qubits begin in the $|0\\rangle$ state.\n",
    "\n",
    "Hints are included within the operation itself.\n",
    "> The operation takes no input and returns a `Result`. This is a unique data type in Q# which can take the values `One` or `Zero`.\n"
   ]
  },
  {
   "cell_type": "code",
   "execution_count": null,
   "metadata": {},
   "outputs": [],
   "source": [
    "operation PreparePlusQubit () : Result {\n",
    "    // TODO\n",
    "    // Allocate a qubit in the |0⟩ state.\n",
    "    // Prepare a qubit in the |+⟩ state.\n",
    "    // Measure the qubit.\n",
    "    // Return the measurement result.\n",
    "}"
   ]
  },
  {
   "cell_type": "markdown",
   "metadata": {},
   "source": [
    "Once done you need to compile the operation into a circuit by running the cell which contains it."
   ]
  },
  {
   "cell_type": "markdown",
   "metadata": {},
   "source": [
    "It is possible to simulate all quantum computations on a classical computer. Unfortunately the time it takes to do this is exponential so there is no speedup to be gained. Nevertheless it can be useful when designing quantum code.\n",
    "\n",
    "The below ls magic command allows you to simulate an operation. \n",
    "> %simulate [operation]\n",
    "        "
   ]
  },
  {
   "cell_type": "code",
   "execution_count": null,
   "metadata": {},
   "outputs": [],
   "source": [
    "// You can simulate the above operation using the following code:\n",
    "%simulate PreparePlusQubit"
   ]
  },
  {
   "cell_type": "markdown",
   "metadata": {},
   "source": [
    "Below is the code for connecting to an Azure Quantum workspace. There are 3 steps to submitting a job to Azure Quantum.\n",
    "1. Connect to an Azure Quantum workspace.\n",
    "2. Choose a hardware platform (target) to submit to.\n",
    "3. Submit the job.\n",
    "\n",
    "Once you have done 1 and 2 you can repeatedly perform step 3. "
   ]
  },
  {
   "cell_type": "markdown",
   "metadata": {},
   "source": [
    "1. Connect to an Azure Quantum workspace.\n",
    "\n",
    "The below lsmagic command will connect to your workspace. You need to pass two arguments to this command. 1. A string containing your Resource ID 2. A string containing your location. All of this information can be found on the overview page of your Azure Quantum Workspace. For more [details](https://learn.microsoft.com/en-us/qsharp/api/iqsharp-magic/azure.connect).\n"
   ]
  },
  {
   "cell_type": "code",
   "execution_count": null,
   "metadata": {},
   "outputs": [],
   "source": [
    "// In the first \"\" place your ResourceId and in the second \"\" place your location\n",
    "%azure.connect \"\" location= \"\""
   ]
  },
  {
   "cell_type": "markdown",
   "metadata": {},
   "source": [
    "2. Choose a hardware platform\n",
    "\n",
    "Azure Quantum allows you to choose multiple different hardware providers. In this notebook we will use the IonQ quantum processing unit (QPU)). You do not need to add anything to the below cell, just run it. "
   ]
  },
  {
   "cell_type": "code",
   "execution_count": null,
   "metadata": {},
   "outputs": [],
   "source": [
    "%azure.target ionq.qpu"
   ]
  },
  {
   "cell_type": "markdown",
   "metadata": {},
   "source": [
    "3. Submit the job.\n",
    "\n",
    "Now we just tell Azure to run our job on hardware. Do this by running the below cell."
   ]
  },
  {
   "cell_type": "code",
   "execution_count": null,
   "metadata": {},
   "outputs": [],
   "source": [
    "%azure.submit PreparePlusQubit jobName=\"Prepare Plus Qubit on IonQ QPU\""
   ]
  },
  {
   "cell_type": "markdown",
   "metadata": {},
   "source": [
    "It may take a while for the result to come back, so be patient! You can check the status of your job by using the following [command](https://learn.microsoft.com/en-us/qsharp/api/iqsharp-magic/azure.status)."
   ]
  },
  {
   "cell_type": "code",
   "execution_count": null,
   "metadata": {},
   "outputs": [],
   "source": [
    "%azure.status \n",
    "// By default this checks the last job submitted from the notebook\n",
    "// To change which job you want to check pass the job id as a string"
   ]
  },
  {
   "cell_type": "markdown",
   "metadata": {},
   "source": [
    "Lastly to check the output we use %azure.output"
   ]
  },
  {
   "cell_type": "code",
   "execution_count": null,
   "metadata": {},
   "outputs": [],
   "source": [
    "%azure.output\n",
    "// By default this checks the last job submitted from the notebook\n",
    "// To change which job you want to check pass the job id as a string"
   ]
  },
  {
   "cell_type": "markdown",
   "metadata": {},
   "source": [
    "# Exercise 2 - Prepare Bell State\n",
    "For this operation intialize two qubits and return the measurement of the Bell state\n",
    "> The operation takes no input and outputs a measurement array of type `Result`."
   ]
  },
  {
   "cell_type": "code",
   "execution_count": null,
   "metadata": {},
   "outputs": [],
   "source": [
    "operation BellState () : Result[] {\n",
    "    // TODO\n",
    "    // Initialize two qubits in the |0⟩ state.\n",
    "    // Prepare a Bell state.\n",
    "    // Measure the qubits.\n",
    "    // Return the measurement results.\n",
    "}"
   ]
  },
  {
   "cell_type": "code",
   "execution_count": null,
   "metadata": {},
   "outputs": [],
   "source": [
    "%simulate BellState"
   ]
  },
  {
   "cell_type": "markdown",
   "metadata": {},
   "source": [
    "Let's see what this looks like on real hardware."
   ]
  },
  {
   "cell_type": "code",
   "execution_count": null,
   "metadata": {},
   "outputs": [],
   "source": [
    "%azure.submit BellState jobName=\"Bell State IonQ QPU\""
   ]
  },
  {
   "cell_type": "code",
   "execution_count": null,
   "metadata": {},
   "outputs": [],
   "source": [
    "%azure.status "
   ]
  },
  {
   "cell_type": "code",
   "execution_count": null,
   "metadata": {},
   "outputs": [],
   "source": [
    "%azure.output"
   ]
  },
  {
   "cell_type": "markdown",
   "metadata": {},
   "source": [
    "# Exercise 3 - Measure an N Qubit Bell State\n",
    "Similar to the BellState operation, initialize N qubits then put all N qubits into a Bell state and measure them.\n",
    "\n",
    "> The operation takes 1 input, N, and returns an array of type `Result`\n"
   ]
  },
  {
   "cell_type": "code",
   "execution_count": null,
   "metadata": {},
   "outputs": [],
   "source": [
    "operation NQubitBellState(N : Int) : Result[] {\n",
    "    // TODO\n",
    "    // Initialize two qubits in the |0⟩ state.\n",
    "    // Prepare one qubit in the |+⟩ state.\n",
    "    // Prepare Bell state on all qubits.\n",
    "    // Measure the qubits.\n",
    "    // Return the measurement results.\n",
    "}"
   ]
  },
  {
   "cell_type": "code",
   "execution_count": null,
   "metadata": {},
   "outputs": [],
   "source": [
    "%simulate NQubitBellState"
   ]
  },
  {
   "cell_type": "markdown",
   "metadata": {},
   "source": [
    "You can pass parameters to a simulated job directly."
   ]
  },
  {
   "cell_type": "code",
   "execution_count": null,
   "metadata": {},
   "outputs": [],
   "source": [
    "%azure.submit NQubitBellState N = 4 jobName=\"4 Qubit Bell State IonQ QPU\""
   ]
  },
  {
   "cell_type": "code",
   "execution_count": null,
   "metadata": {},
   "outputs": [],
   "source": [
    "%azure.status "
   ]
  },
  {
   "cell_type": "code",
   "execution_count": null,
   "metadata": {},
   "outputs": [],
   "source": [
    "%azure.output"
   ]
  }
 ],
 "metadata": {
  "kernelspec": {
   "display_name": "Q#",
   "language": "qsharp",
   "name": "iqsharp"
  },
  "language_info": {
   "file_extension": ".qs",
   "mimetype": "text/x-qsharp",
   "name": "qsharp",
   "version": "0.14"
  },
  "orig_nbformat": 4,
  "vscode": {
   "interpreter": {
    "hash": "84a3d7fda32a07a8ccc496d4f2ca1f9c029ac1ca6c013db9f3aa913bda7c5b04"
   }
  }
 },
 "nbformat": 4,
 "nbformat_minor": 2
}
